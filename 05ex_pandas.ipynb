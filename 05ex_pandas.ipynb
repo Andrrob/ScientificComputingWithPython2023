{
 "cells": [
  {
   "cell_type": "markdown",
   "metadata": {},
   "source": [
    "1\\. **Pandas DataFrame**\n",
    "\n",
    "This exercise consists in analyzing a dataset containg timing information from a series of Time-to-Digital-Converters (TDC) implemented in a pair of FPGAs. Each measurement (i.e. each row of the input file) consists of a flag that specifies the type of message ('HEAD', which in this case is always 1), two addresses of the TDC providing the signal ('FPGA' and 'TDC_CHANNEL'), and the timing information ('ORBIT_CNT', 'BX_COUNTER', and 'TDC_MEAS'). Each TDC count corresponds to 25/30 ns, whereas a unit of BX_COUNTER corresponds to 25 ns, and the ORBIT_CNT is increased every `x` BX_COUNTER. This allows to store the time in a similar way to hours, minutes and seconds."
   ]
  },
  {
   "cell_type": "code",
   "execution_count": 10,
   "metadata": {},
   "outputs": [],
   "source": [
    "# If haven't downloaded it yet, please get the data file with wget\n",
    "#!wget https://www.dropbox.com/s/xvjzaxzz3ysphme/data_000637.txt -P ./data/\n",
    "\n",
    "import pandas as pd\n",
    "import numpy as np"
   ]
  },
  {
   "cell_type": "markdown",
   "metadata": {},
   "source": [
    "1\\. Create a Pandas DataFrame reading N rows of the `data/data_000637.txt` dataset. Choose N to be smaller than or equal to the maximum number of rows and larger that 10k (check the documentation)."
   ]
  },
  {
   "cell_type": "code",
   "execution_count": 11,
   "metadata": {},
   "outputs": [
    {
     "name": "stdout",
     "output_type": "stream",
     "text": [
      "Number of rows read: 882488\n",
      "        HEAD  FPGA  TDC_CHANNEL   ORBIT_CNT  BX_COUNTER  TDC_MEAS\n",
      "0          1     0          123  3869200167        2374        26\n",
      "1          1     0          124  3869200167        2374        27\n",
      "2          1     0           63  3869200167        2553        28\n",
      "3          1     0           64  3869200167        2558        19\n",
      "4          1     0           64  3869200167        2760        25\n",
      "...      ...   ...          ...         ...         ...       ...\n",
      "882483     1     0           58  3869208225         272        23\n",
      "882484     1     0           60  3869208225         276         0\n",
      "882485     1     0           57  3869208225         282        11\n",
      "882486     1     1            8  3869208225         284        17\n",
      "882487     1     0           31  3869208225         941        13\n",
      "\n",
      "[882488 rows x 6 columns]\n"
     ]
    }
   ],
   "source": [
    "file_name = \"./data_000637.txt\"\n",
    "data = pd.read_csv(file_name)\n",
    "\n",
    "if data.shape[0] <= 10000: N = data.shape[0]\n",
    "else: N = int(np.random.randint(10000, data.shape[0], 1))\n",
    "\n",
    "data_N_rows = pd.read_csv(file_name, nrows=N)\n",
    "print(f\"Number of rows read: {N}\") \n",
    "print(data_N_rows)"
   ]
  },
  {
   "cell_type": "markdown",
   "metadata": {},
   "source": [
    "2\\. Estimate the number of BX in a ORBIT (the value `x`).\n",
    "\n",
    "*Hint*: check when the BX counter reaches the maximum value before being reset to 0."
   ]
  },
  {
   "cell_type": "code",
   "execution_count": 12,
   "metadata": {},
   "outputs": [
    {
     "name": "stdout",
     "output_type": "stream",
     "text": [
      "Estimated number of BX in an ORBIT: 3563\n"
     ]
    }
   ],
   "source": [
    "\n",
    "x = np.max(data['BX_COUNTER']) \n",
    "print(f\"Estimated number of BX in an ORBIT: {x}\")\n"
   ]
  },
  {
   "cell_type": "markdown",
   "metadata": {},
   "source": [
    "3\\. Create a new column with the absolute time in ns (as a combination of the other three columns with timing information) since the beginning of the data acquisition, and convert the new column to a Time Series.\n",
    "\n",
    "*Hint:* introduce an offset to the absolute time such that the start of the data acquisition (i.e. the first entry) is zero."
   ]
  },
  {
   "cell_type": "code",
   "execution_count": 13,
   "metadata": {},
   "outputs": [
    {
     "name": "stdout",
     "output_type": "stream",
     "text": [
      "   TDC_TIME_ns  BX_TIME_ns    ORBIT_TIME_ns  AbsoluteTime_ns  \\\n",
      "0    21.666667       59350  344649004875525           0.0000   \n",
      "1    22.500000       59350  344649004875525           0.8125   \n",
      "2    23.333333       63825  344649004875525        4476.6250   \n",
      "3    15.833333       63950  344649004875525        4594.1250   \n",
      "4    20.833333       69000  344649004875525        9649.1250   \n",
      "\n",
      "                 TimeSeries  \n",
      "0           0 days 00:00:00  \n",
      "1           0 days 00:00:00  \n",
      "2 0 days 00:00:00.000004476  \n",
      "3 0 days 00:00:00.000004594  \n",
      "4 0 days 00:00:00.000009649  \n"
     ]
    }
   ],
   "source": [
    "\n",
    "TDC_per_ns = 25 / 30 \n",
    "bx_counter_ns = 25\n",
    "data['TDC_TIME_ns'] = data['TDC_MEAS'] * TDC_per_ns\n",
    "data['BX_TIME_ns'] = data['BX_COUNTER'] * bx_counter_ns\n",
    "data['ORBIT_TIME_ns'] = data['ORBIT_CNT'] * x * bx_counter_ns\n",
    "data['AbsoluteTime_ns'] = data['TDC_TIME_ns'] + data['BX_TIME_ns'] + data['ORBIT_TIME_ns']\n",
    "data['AbsoluteTime_ns'] -= data['AbsoluteTime_ns'].iloc[0] #introducing the offset\n",
    "data['TimeSeries'] = pd.to_timedelta(data['AbsoluteTime_ns'], unit='ns')\n",
    "\n",
    "print(data[['TDC_TIME_ns', 'BX_TIME_ns', 'ORBIT_TIME_ns', 'AbsoluteTime_ns', 'TimeSeries']].head())"
   ]
  },
  {
   "cell_type": "markdown",
   "metadata": {},
   "source": [
    "4\\. Find out the duration of the data taking in hours, minutes and seconds, by using the features of the Time Series. Perform this check reading the whole dataset."
   ]
  },
  {
   "cell_type": "code",
   "execution_count": 14,
   "metadata": {},
   "outputs": [
    {
     "name": "stdout",
     "output_type": "stream",
     "text": [
      "Duration of data taking: 0 hours, 0 minutes, 0 seconds and 980 milliseconds\n"
     ]
    }
   ],
   "source": [
    "duration = data['TimeSeries'].iloc[-1] # since data['TimeSeries'].iloc[0] is set to zero, if no offset duration = data['TimeSeries'].iloc[-1] - data['TimeSeries'].iloc[0]\n",
    "print(f\"Duration of data taking: {duration.components.hours} hours, {duration.components.minutes} minutes, {duration.components.seconds} seconds and {duration.components.milliseconds} milliseconds\")"
   ]
  },
  {
   "cell_type": "markdown",
   "metadata": {},
   "source": [
    "5\\. Use the `.groupby()` method to find out the noisy channels, i.e. the TDC channels with most counts (print to screen the top 3 and the corresponding counts)"
   ]
  },
  {
   "cell_type": "code",
   "execution_count": 15,
   "metadata": {},
   "outputs": [
    {
     "name": "stdout",
     "output_type": "stream",
     "text": [
      "TDC_CHANNEL\n",
      "139    418102549486957\n",
      "64     255444994368975\n",
      "63     250113227630194\n",
      "Name: ORBIT_CNT, dtype: int64\n"
     ]
    }
   ],
   "source": [
    "grouped = data.groupby('TDC_CHANNEL')['ORBIT_CNT'].sum()\n",
    "sorted_grouped = grouped.sort_values(ascending=False)\n",
    "top3 = sorted_grouped.head(3)\n",
    "print(top3)"
   ]
  },
  {
   "cell_type": "markdown",
   "metadata": {},
   "source": [
    "6\\. Count the number of non-empty orbits (i.e. the number of orbits with at least one hit)."
   ]
  },
  {
   "cell_type": "code",
   "execution_count": 16,
   "metadata": {},
   "outputs": [
    {
     "name": "stdout",
     "output_type": "stream",
     "text": [
      "Number of non empty orbits: 1310720 \n"
     ]
    }
   ],
   "source": [
    "non_empty_orbits = data['ORBIT_CNT'].count()\n",
    "print(f\"Number of non empty orbits: {non_empty_orbits} \")"
   ]
  },
  {
   "cell_type": "markdown",
   "metadata": {},
   "source": [
    "7\\. Count the number of unique orbits with at least one measurement from TDC_CHANNEL=139."
   ]
  },
  {
   "cell_type": "code",
   "execution_count": 17,
   "metadata": {},
   "outputs": [
    {
     "name": "stdout",
     "output_type": "stream",
     "text": [
      "Number of unique orbits for TDC_CHANNEL=139: 10976\n"
     ]
    }
   ],
   "source": [
    "TDC_channel_139 = data[data['TDC_CHANNEL'] == 139]\n",
    "unique_orbits_tdc_139 = TDC_channel_139['ORBIT_CNT'].nunique()\n",
    "print(f\"Number of unique orbits for TDC_CHANNEL=139: {unique_orbits_tdc_139}\")"
   ]
  },
  {
   "cell_type": "markdown",
   "metadata": {},
   "source": [
    "8\\. Create two Series (one for each FPGA) that have the TDC channel as index, and the number of counts for the corresponding TDC channel as values."
   ]
  },
  {
   "cell_type": "code",
   "execution_count": 18,
   "metadata": {},
   "outputs": [
    {
     "name": "stdout",
     "output_type": "stream",
     "text": [
      "For FPGA 0: \n",
      " TDC_CHANNEL\n",
      "123             NaN\n",
      "124    3.869200e+09\n",
      "63              NaN\n",
      "64     3.869200e+09\n",
      "64     3.869200e+09\n",
      "           ...     \n",
      "60              NaN\n",
      "62              NaN\n",
      "64     3.869200e+09\n",
      "139    3.869200e+09\n",
      "61              NaN\n",
      "Name: ORBIT_CNT, Length: 922852, dtype: float64\n",
      "For FPGA 1: \n",
      " TDC_CHANNEL\n",
      "7     NaN\n",
      "6     NaN\n",
      "139   NaN\n",
      "8     NaN\n",
      "5     NaN\n",
      "       ..\n",
      "38    NaN\n",
      "36    NaN\n",
      "39    NaN\n",
      "35    NaN\n",
      "4     NaN\n",
      "Name: ORBIT_CNT, Length: 387868, dtype: float64\n"
     ]
    }
   ],
   "source": [
    "fpga_0 = data[data['FPGA'] == 0]\n",
    "ser_fpga_0 = pd.Series(fpga_0['ORBIT_CNT'], fpga_0['TDC_CHANNEL'])\n",
    "fpga_1 = data[data['FPGA'] == 1]\n",
    "ser_fpga_1 = pd.Series(fpga_1['ORBIT_CNT'], fpga_1['TDC_CHANNEL'])\n",
    "\n",
    "print(f\"For FPGA 0: \\n {ser_fpga_0}\")\n",
    "print(f\"For FPGA 1: \\n {ser_fpga_1}\")"
   ]
  },
  {
   "cell_type": "markdown",
   "metadata": {},
   "source": [
    "9\\. **Optional:** Create two histograms (one for each FPGA) that show the number of counts for each TDC channel."
   ]
  },
  {
   "cell_type": "code",
   "execution_count": null,
   "metadata": {},
   "outputs": [],
   "source": []
  }
 ],
 "metadata": {
  "kernelspec": {
   "display_name": "Python 3 (ipykernel)",
   "language": "python",
   "name": "python3"
  },
  "language_info": {
   "codemirror_mode": {
    "name": "ipython",
    "version": 3
   },
   "file_extension": ".py",
   "mimetype": "text/x-python",
   "name": "python",
   "nbconvert_exporter": "python",
   "pygments_lexer": "ipython3",
   "version": "3.10.9"
  }
 },
 "nbformat": 4,
 "nbformat_minor": 2
}
